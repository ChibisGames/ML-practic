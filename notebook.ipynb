{
 "cells": [
  {
   "cell_type": "markdown",
   "id": "a1352c86-0c10-40fd-8a23-92b0e895466a",
   "metadata": {},
   "source": [
    "# Помощь В обработке данных (работа с pandas и т.д.)"
   ]
  },
  {
   "cell_type": "code",
   "execution_count": 1,
   "id": "0dde8b57-3693-44fe-a530-bd45a89b7873",
   "metadata": {},
   "outputs": [
    {
     "name": "stdout",
     "output_type": "stream",
     "text": [
      "Hello, World!\n"
     ]
    }
   ],
   "source": [
    "print(\"Hello, World!\")"
   ]
  }
 ],
 "metadata": {
  "kernelspec": {
   "display_name": "ml-practic",
   "language": "python",
   "name": "python3"
  },
  "language_info": {
   "codemirror_mode": {
    "name": "ipython",
    "version": 3
   },
   "file_extension": ".py",
   "mimetype": "text/x-python",
   "name": "python",
   "nbconvert_exporter": "python",
   "pygments_lexer": "ipython3",
   "version": "3.13.5"
  }
 },
 "nbformat": 4,
 "nbformat_minor": 5
}
